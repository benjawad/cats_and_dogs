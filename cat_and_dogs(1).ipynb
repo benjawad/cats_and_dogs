{
  "cells": [
    {
      "cell_type": "code",
      "execution_count": null,
      "metadata": {
        "colab": {
          "base_uri": "https://localhost:8080/",
          "height": 91
        },
        "id": "4ReLcS6XYa5u",
        "outputId": "d7d059dc-e6e5-4525-8d77-04b4a65aa449"
      },
      "outputs": [
        {
          "data": {
            "text/html": [
              "\n",
              "     <input type=\"file\" id=\"files-f9a395b7-adb2-4c20-9346-ac208ad665f6\" name=\"files[]\" multiple disabled\n",
              "        style=\"border:none\" />\n",
              "     <output id=\"result-f9a395b7-adb2-4c20-9346-ac208ad665f6\">\n",
              "      Upload widget is only available when the cell has been executed in the\n",
              "      current browser session. Please rerun this cell to enable.\n",
              "      </output>\n",
              "      <script>// Copyright 2017 Google LLC\n",
              "//\n",
              "// Licensed under the Apache License, Version 2.0 (the \"License\");\n",
              "// you may not use this file except in compliance with the License.\n",
              "// You may obtain a copy of the License at\n",
              "//\n",
              "//      http://www.apache.org/licenses/LICENSE-2.0\n",
              "//\n",
              "// Unless required by applicable law or agreed to in writing, software\n",
              "// distributed under the License is distributed on an \"AS IS\" BASIS,\n",
              "// WITHOUT WARRANTIES OR CONDITIONS OF ANY KIND, either express or implied.\n",
              "// See the License for the specific language governing permissions and\n",
              "// limitations under the License.\n",
              "\n",
              "/**\n",
              " * @fileoverview Helpers for google.colab Python module.\n",
              " */\n",
              "(function(scope) {\n",
              "function span(text, styleAttributes = {}) {\n",
              "  const element = document.createElement('span');\n",
              "  element.textContent = text;\n",
              "  for (const key of Object.keys(styleAttributes)) {\n",
              "    element.style[key] = styleAttributes[key];\n",
              "  }\n",
              "  return element;\n",
              "}\n",
              "\n",
              "// Max number of bytes which will be uploaded at a time.\n",
              "const MAX_PAYLOAD_SIZE = 100 * 1024;\n",
              "\n",
              "function _uploadFiles(inputId, outputId) {\n",
              "  const steps = uploadFilesStep(inputId, outputId);\n",
              "  const outputElement = document.getElementById(outputId);\n",
              "  // Cache steps on the outputElement to make it available for the next call\n",
              "  // to uploadFilesContinue from Python.\n",
              "  outputElement.steps = steps;\n",
              "\n",
              "  return _uploadFilesContinue(outputId);\n",
              "}\n",
              "\n",
              "// This is roughly an async generator (not supported in the browser yet),\n",
              "// where there are multiple asynchronous steps and the Python side is going\n",
              "// to poll for completion of each step.\n",
              "// This uses a Promise to block the python side on completion of each step,\n",
              "// then passes the result of the previous step as the input to the next step.\n",
              "function _uploadFilesContinue(outputId) {\n",
              "  const outputElement = document.getElementById(outputId);\n",
              "  const steps = outputElement.steps;\n",
              "\n",
              "  const next = steps.next(outputElement.lastPromiseValue);\n",
              "  return Promise.resolve(next.value.promise).then((value) => {\n",
              "    // Cache the last promise value to make it available to the next\n",
              "    // step of the generator.\n",
              "    outputElement.lastPromiseValue = value;\n",
              "    return next.value.response;\n",
              "  });\n",
              "}\n",
              "\n",
              "/**\n",
              " * Generator function which is called between each async step of the upload\n",
              " * process.\n",
              " * @param {string} inputId Element ID of the input file picker element.\n",
              " * @param {string} outputId Element ID of the output display.\n",
              " * @return {!Iterable<!Object>} Iterable of next steps.\n",
              " */\n",
              "function* uploadFilesStep(inputId, outputId) {\n",
              "  const inputElement = document.getElementById(inputId);\n",
              "  inputElement.disabled = false;\n",
              "\n",
              "  const outputElement = document.getElementById(outputId);\n",
              "  outputElement.innerHTML = '';\n",
              "\n",
              "  const pickedPromise = new Promise((resolve) => {\n",
              "    inputElement.addEventListener('change', (e) => {\n",
              "      resolve(e.target.files);\n",
              "    });\n",
              "  });\n",
              "\n",
              "  const cancel = document.createElement('button');\n",
              "  inputElement.parentElement.appendChild(cancel);\n",
              "  cancel.textContent = 'Cancel upload';\n",
              "  const cancelPromise = new Promise((resolve) => {\n",
              "    cancel.onclick = () => {\n",
              "      resolve(null);\n",
              "    };\n",
              "  });\n",
              "\n",
              "  // Wait for the user to pick the files.\n",
              "  const files = yield {\n",
              "    promise: Promise.race([pickedPromise, cancelPromise]),\n",
              "    response: {\n",
              "      action: 'starting',\n",
              "    }\n",
              "  };\n",
              "\n",
              "  cancel.remove();\n",
              "\n",
              "  // Disable the input element since further picks are not allowed.\n",
              "  inputElement.disabled = true;\n",
              "\n",
              "  if (!files) {\n",
              "    return {\n",
              "      response: {\n",
              "        action: 'complete',\n",
              "      }\n",
              "    };\n",
              "  }\n",
              "\n",
              "  for (const file of files) {\n",
              "    const li = document.createElement('li');\n",
              "    li.append(span(file.name, {fontWeight: 'bold'}));\n",
              "    li.append(span(\n",
              "        `(${file.type || 'n/a'}) - ${file.size} bytes, ` +\n",
              "        `last modified: ${\n",
              "            file.lastModifiedDate ? file.lastModifiedDate.toLocaleDateString() :\n",
              "                                    'n/a'} - `));\n",
              "    const percent = span('0% done');\n",
              "    li.appendChild(percent);\n",
              "\n",
              "    outputElement.appendChild(li);\n",
              "\n",
              "    const fileDataPromise = new Promise((resolve) => {\n",
              "      const reader = new FileReader();\n",
              "      reader.onload = (e) => {\n",
              "        resolve(e.target.result);\n",
              "      };\n",
              "      reader.readAsArrayBuffer(file);\n",
              "    });\n",
              "    // Wait for the data to be ready.\n",
              "    let fileData = yield {\n",
              "      promise: fileDataPromise,\n",
              "      response: {\n",
              "        action: 'continue',\n",
              "      }\n",
              "    };\n",
              "\n",
              "    // Use a chunked sending to avoid message size limits. See b/62115660.\n",
              "    let position = 0;\n",
              "    do {\n",
              "      const length = Math.min(fileData.byteLength - position, MAX_PAYLOAD_SIZE);\n",
              "      const chunk = new Uint8Array(fileData, position, length);\n",
              "      position += length;\n",
              "\n",
              "      const base64 = btoa(String.fromCharCode.apply(null, chunk));\n",
              "      yield {\n",
              "        response: {\n",
              "          action: 'append',\n",
              "          file: file.name,\n",
              "          data: base64,\n",
              "        },\n",
              "      };\n",
              "\n",
              "      let percentDone = fileData.byteLength === 0 ?\n",
              "          100 :\n",
              "          Math.round((position / fileData.byteLength) * 100);\n",
              "      percent.textContent = `${percentDone}% done`;\n",
              "\n",
              "    } while (position < fileData.byteLength);\n",
              "  }\n",
              "\n",
              "  // All done.\n",
              "  yield {\n",
              "    response: {\n",
              "      action: 'complete',\n",
              "    }\n",
              "  };\n",
              "}\n",
              "\n",
              "scope.google = scope.google || {};\n",
              "scope.google.colab = scope.google.colab || {};\n",
              "scope.google.colab._files = {\n",
              "  _uploadFiles,\n",
              "  _uploadFilesContinue,\n",
              "};\n",
              "})(self);\n",
              "</script> "
            ],
            "text/plain": [
              "<IPython.core.display.HTML object>"
            ]
          },
          "metadata": {},
          "output_type": "display_data"
        },
        {
          "name": "stdout",
          "output_type": "stream",
          "text": [
            "Saving kaggle.json to kaggle (1).json\n"
          ]
        },
        {
          "data": {
            "text/plain": [
              "{'kaggle (1).json': b'{\"username\":\"jawadbenali\",\"key\":\"bfa9f810facbf1bd72e164820828d7f9\"}'}"
            ]
          },
          "execution_count": 3,
          "metadata": {},
          "output_type": "execute_result"
        }
      ],
      "source": [
        "from google.colab import files\n",
        "files.upload()"
      ]
    },
    {
      "cell_type": "code",
      "execution_count": null,
      "metadata": {
        "id": "9v4oj9o7bq2l"
      },
      "outputs": [],
      "source": [
        "!mkdir ~/.kaggle\n",
        "!cp kaggle.json ~/.kaggle/\n",
        "!chmod 600 ~/.kaggle/kaggle.json"
      ]
    },
    {
      "cell_type": "code",
      "execution_count": null,
      "metadata": {
        "colab": {
          "base_uri": "https://localhost:8080/"
        },
        "id": "2N8shKzQYe0p",
        "outputId": "c0d8d64f-b5af-499e-bc13-967d43fea706"
      },
      "outputs": [
        {
          "name": "stdout",
          "output_type": "stream",
          "text": [
            "Downloading dogs-vs-cats.zip to /content\n",
            "100% 812M/812M [00:08<00:00, 118MB/s] \n",
            "100% 812M/812M [00:08<00:00, 105MB/s]\n"
          ]
        }
      ],
      "source": [
        "!kaggle competitions download -c dogs-vs-cats"
      ]
    },
    {
      "cell_type": "code",
      "execution_count": null,
      "metadata": {
        "id": "iyXRkpFqTPrI"
      },
      "outputs": [],
      "source": [
        "!unzip -qq dogs-vs-cats.zip"
      ]
    },
    {
      "cell_type": "code",
      "execution_count": null,
      "metadata": {
        "id": "F4CLNLdoZOTH"
      },
      "outputs": [],
      "source": [
        "!unzip -qq train.zip"
      ]
    },
    {
      "cell_type": "code",
      "execution_count": null,
      "metadata": {
        "id": "MjmiGEWhZnKP"
      },
      "outputs": [],
      "source": [
        "import pandas as pd\n",
        "import os, shutil, pathlib\n",
        "from tensorflow import keras\n",
        "from tensorflow.keras.utils import image_dataset_from_directory\n",
        "from tensorflow.keras import layers\n",
        "from IPython.display import Image"
      ]
    },
    {
      "cell_type": "code",
      "execution_count": null,
      "metadata": {
        "id": "7uUUop7Rc6o4"
      },
      "outputs": [],
      "source": [
        "original_dir = pathlib.Path(\"train\")\n",
        "new_base_dir = pathlib.Path(\"cats_vs_dogs_small\")\n",
        "def make_subset(subset_name, start_index, end_index):\n",
        "  for category in (\"cat\", \"dog\"):\n",
        "    dir = new_base_dir / subset_name / category\n",
        "    os.makedirs(dir)\n",
        "    fnames = [f\"{category}.{i}.jpg\" for i in range(start_index, end_index)]\n",
        "    for fname in fnames:\n",
        "        shutil.copyfile(src=original_dir / fname, dst=dir / fname)\n",
        "\n",
        "make_subset(\"train\", start_index=0, end_index=1000)\n",
        "make_subset(\"validation\", start_index=1000, end_index=1500)\n",
        "make_subset(\"test\", start_index=1500, end_index=2500)"
      ]
    },
    {
      "cell_type": "code",
      "execution_count": null,
      "metadata": {
        "id": "U0QZ5-UMdZPy"
      },
      "outputs": [],
      "source": [
        "inputs = keras.Input(shape=(180,180,3))\n",
        "x = layers.Rescaling(1./255)(inputs)\n",
        "x = layers.Conv2D(filters = 32,kernel_size = 3,activation = \"relu\")(x)\n",
        "x = layers.MaxPooling2D(pool_size =2)(x)\n",
        "x = layers.Conv2D(filters = 64,kernel_size = 3,activation = \"relu\")(x)\n",
        "x = layers.MaxPooling2D(pool_size =2)(x)\n",
        "x = layers.Conv2D(filters = 128,kernel_size = 3,activation = \"relu\")(x)\n",
        "x = layers.MaxPooling2D(pool_size =2)(x)\n",
        "x = layers.Conv2D(filters = 256,kernel_size = 3,activation = \"relu\")(x)\n",
        "x = layers.MaxPooling2D(pool_size =2)(x)\n",
        "x = layers.Conv2D(filters = 256,kernel_size = 3,activation = \"relu\")(x)\n",
        "x = layers.Flatten()(x)\n",
        "outputs = layers.Dense(1, activation=\"sigmoid\")(x)\n",
        "model = keras.Model(inputs=inputs, outputs=outputs)"
      ]
    },
    {
      "cell_type": "code",
      "execution_count": null,
      "metadata": {
        "colab": {
          "base_uri": "https://localhost:8080/"
        },
        "id": "JcuztfZWjG1f",
        "outputId": "7c708124-c0ef-45ba-cdb7-6a3d338255bd"
      },
      "outputs": [
        {
          "name": "stdout",
          "output_type": "stream",
          "text": [
            "Model: \"model\"\n",
            "_________________________________________________________________\n",
            " Layer (type)                Output Shape              Param #   \n",
            "=================================================================\n",
            " input_1 (InputLayer)        [(None, 180, 180, 3)]     0         \n",
            "                                                                 \n",
            " rescaling (Rescaling)       (None, 180, 180, 3)       0         \n",
            "                                                                 \n",
            " conv2d (Conv2D)             (None, 178, 178, 32)      896       \n",
            "                                                                 \n",
            " max_pooling2d (MaxPooling2  (None, 89, 89, 32)        0         \n",
            " D)                                                              \n",
            "                                                                 \n",
            " conv2d_1 (Conv2D)           (None, 87, 87, 64)        18496     \n",
            "                                                                 \n",
            " max_pooling2d_1 (MaxPoolin  (None, 43, 43, 64)        0         \n",
            " g2D)                                                            \n",
            "                                                                 \n",
            " conv2d_2 (Conv2D)           (None, 41, 41, 128)       73856     \n",
            "                                                                 \n",
            " max_pooling2d_2 (MaxPoolin  (None, 20, 20, 128)       0         \n",
            " g2D)                                                            \n",
            "                                                                 \n",
            " conv2d_3 (Conv2D)           (None, 18, 18, 256)       295168    \n",
            "                                                                 \n",
            " max_pooling2d_3 (MaxPoolin  (None, 9, 9, 256)         0         \n",
            " g2D)                                                            \n",
            "                                                                 \n",
            " conv2d_4 (Conv2D)           (None, 7, 7, 256)         590080    \n",
            "                                                                 \n",
            " flatten (Flatten)           (None, 12544)             0         \n",
            "                                                                 \n",
            " dense (Dense)               (None, 1)                 12545     \n",
            "                                                                 \n",
            "=================================================================\n",
            "Total params: 991041 (3.78 MB)\n",
            "Trainable params: 991041 (3.78 MB)\n",
            "Non-trainable params: 0 (0.00 Byte)\n",
            "_________________________________________________________________\n"
          ]
        }
      ],
      "source": [
        "model.summary()"
      ]
    },
    {
      "cell_type": "code",
      "execution_count": null,
      "metadata": {
        "id": "KrXWQQ-XjRlJ"
      },
      "outputs": [],
      "source": [
        "model.compile(loss=\"binary_crossentropy\",\n",
        "              optimizer=\"rmsprop\",\n",
        "              metrics=[\"accuracy\"])"
      ]
    },
    {
      "cell_type": "code",
      "execution_count": null,
      "metadata": {
        "colab": {
          "base_uri": "https://localhost:8080/"
        },
        "id": "W2NushfkjfaF",
        "outputId": "6cd00cc0-8fa1-4e3f-91a6-22743c60c0d8"
      },
      "outputs": [
        {
          "name": "stdout",
          "output_type": "stream",
          "text": [
            "Found 2000 files belonging to 2 classes.\n",
            "Found 1000 files belonging to 2 classes.\n",
            "Found 2000 files belonging to 2 classes.\n"
          ]
        }
      ],
      "source": [
        "train_ds = image_dataset_from_directory(\n",
        "    new_base_dir / \"train\",\n",
        "    image_size = (180,180),\n",
        "    batch_size = 32,\n",
        "    )\n",
        "validation_ds = image_dataset_from_directory(\n",
        "    new_base_dir / \"validation\",\n",
        "    image_size = (180,180),\n",
        "    batch_size = 32,\n",
        "    )\n",
        "test_ds = image_dataset_from_directory(\n",
        "    new_base_dir / \"test\",\n",
        "    image_size = (180,180),\n",
        "    batch_size = 32,\n",
        "    )"
      ]
    },
    {
      "cell_type": "code",
      "execution_count": null,
      "metadata": {
        "colab": {
          "base_uri": "https://localhost:8080/"
        },
        "id": "mP9_6WuLmShV",
        "outputId": "e87e3ade-bb7a-48c7-91ca-6a4ded2dc88a"
      },
      "outputs": [
        {
          "name": "stdout",
          "output_type": "stream",
          "text": [
            "data batch shape: (32, 180, 180, 3)\n",
            "labels batch shape: (32,)\n"
          ]
        }
      ],
      "source": [
        "for data_batch, labels_batch in train_ds:\n",
        "    print(\"data batch shape:\", data_batch.shape)\n",
        "    print(\"labels batch shape:\", labels_batch.shape)\n",
        "    break"
      ]
    },
    {
      "cell_type": "code",
      "execution_count": null,
      "metadata": {
        "id": "UfFn0LVbXJcZ"
      },
      "outputs": [],
      "source": [
        "callbacks = [\n",
        "keras.callbacks.ModelCheckpoint(\n",
        "filepath=\"convnet_from_scratch.keras\",\n",
        "save_best_only=True,\n",
        "monitor=\"val_loss\")\n",
        "]\n"
      ]
    },
    {
      "cell_type": "code",
      "execution_count": null,
      "metadata": {
        "colab": {
          "background_save": true,
          "base_uri": "https://localhost:8080/"
        },
        "id": "O2UsyRV7mvAW",
        "outputId": "d9959d98-af4b-4c05-c39b-748715fbe2b9"
      },
      "outputs": [
        {
          "name": "stdout",
          "output_type": "stream",
          "text": [
            "Epoch 1/30\n",
            "63/63 [==============================] - 4s 57ms/step - loss: 0.4324 - accuracy: 0.8045 - val_loss: 0.5740 - val_accuracy: 0.7030\n",
            "Epoch 2/30\n",
            "63/63 [==============================] - 4s 59ms/step - loss: 0.3739 - accuracy: 0.8400 - val_loss: 0.5858 - val_accuracy: 0.7190\n",
            "Epoch 3/30\n",
            "63/63 [==============================] - 6s 100ms/step - loss: 0.3214 - accuracy: 0.8565 - val_loss: 0.6168 - val_accuracy: 0.7360\n",
            "Epoch 4/30\n",
            "63/63 [==============================] - 4s 56ms/step - loss: 0.2739 - accuracy: 0.8800 - val_loss: 0.7566 - val_accuracy: 0.6980\n",
            "Epoch 5/30\n",
            "63/63 [==============================] - 4s 66ms/step - loss: 0.2183 - accuracy: 0.9170 - val_loss: 0.6814 - val_accuracy: 0.7170\n",
            "Epoch 6/30\n",
            "63/63 [==============================] - 6s 84ms/step - loss: 0.1911 - accuracy: 0.9315 - val_loss: 0.8045 - val_accuracy: 0.7220\n",
            "Epoch 7/30\n",
            "63/63 [==============================] - 4s 61ms/step - loss: 0.1445 - accuracy: 0.9450 - val_loss: 1.1348 - val_accuracy: 0.7210\n",
            "Epoch 8/30\n",
            "63/63 [==============================] - 4s 57ms/step - loss: 0.0988 - accuracy: 0.9590 - val_loss: 1.1578 - val_accuracy: 0.6990\n",
            "Epoch 9/30\n",
            "63/63 [==============================] - 6s 94ms/step - loss: 0.0939 - accuracy: 0.9690 - val_loss: 1.2160 - val_accuracy: 0.7330\n",
            "Epoch 10/30\n",
            "63/63 [==============================] - 6s 88ms/step - loss: 0.0902 - accuracy: 0.9710 - val_loss: 1.1650 - val_accuracy: 0.7510\n",
            "Epoch 11/30\n",
            "63/63 [==============================] - 6s 98ms/step - loss: 0.0651 - accuracy: 0.9745 - val_loss: 1.5188 - val_accuracy: 0.7270\n",
            "Epoch 12/30\n",
            "63/63 [==============================] - 4s 56ms/step - loss: 0.0759 - accuracy: 0.9790 - val_loss: 1.4286 - val_accuracy: 0.7150\n",
            "Epoch 13/30\n",
            "63/63 [==============================] - 5s 80ms/step - loss: 0.0557 - accuracy: 0.9865 - val_loss: 1.5880 - val_accuracy: 0.7140\n",
            "Epoch 14/30\n",
            "63/63 [==============================] - 6s 83ms/step - loss: 0.0589 - accuracy: 0.9825 - val_loss: 1.6861 - val_accuracy: 0.7020\n",
            "Epoch 15/30\n",
            "63/63 [==============================] - 4s 56ms/step - loss: 0.0704 - accuracy: 0.9860 - val_loss: 1.7017 - val_accuracy: 0.7270\n",
            "Epoch 16/30\n",
            "63/63 [==============================] - 7s 103ms/step - loss: 0.0536 - accuracy: 0.9875 - val_loss: 2.1649 - val_accuracy: 0.6990\n",
            "Epoch 17/30\n",
            "63/63 [==============================] - 4s 57ms/step - loss: 0.0367 - accuracy: 0.9865 - val_loss: 2.0328 - val_accuracy: 0.7120\n",
            "Epoch 18/30\n",
            "63/63 [==============================] - 5s 81ms/step - loss: 0.0467 - accuracy: 0.9865 - val_loss: 1.8191 - val_accuracy: 0.7080\n",
            "Epoch 19/30\n",
            "63/63 [==============================] - 4s 56ms/step - loss: 0.0704 - accuracy: 0.9830 - val_loss: 2.1976 - val_accuracy: 0.7190\n",
            "Epoch 20/30\n",
            "63/63 [==============================] - 4s 57ms/step - loss: 0.0568 - accuracy: 0.9835 - val_loss: 1.9408 - val_accuracy: 0.7330\n",
            "Epoch 21/30\n",
            "63/63 [==============================] - 6s 86ms/step - loss: 0.0369 - accuracy: 0.9855 - val_loss: 2.4383 - val_accuracy: 0.7160\n",
            "Epoch 22/30\n",
            "63/63 [==============================] - 4s 57ms/step - loss: 0.0616 - accuracy: 0.9830 - val_loss: 2.4604 - val_accuracy: 0.6790\n",
            "Epoch 23/30\n",
            "63/63 [==============================] - 4s 56ms/step - loss: 0.0296 - accuracy: 0.9900 - val_loss: 1.8577 - val_accuracy: 0.7400\n",
            "Epoch 24/30\n",
            "63/63 [==============================] - 7s 106ms/step - loss: 0.0265 - accuracy: 0.9895 - val_loss: 2.2341 - val_accuracy: 0.7270\n",
            "Epoch 25/30\n",
            "63/63 [==============================] - 4s 56ms/step - loss: 0.0544 - accuracy: 0.9870 - val_loss: 2.1424 - val_accuracy: 0.7180\n",
            "Epoch 26/30\n",
            "63/63 [==============================] - 6s 91ms/step - loss: 0.0323 - accuracy: 0.9885 - val_loss: 2.3140 - val_accuracy: 0.7260\n",
            "Epoch 27/30\n",
            "63/63 [==============================] - 4s 57ms/step - loss: 0.0329 - accuracy: 0.9885 - val_loss: 2.4383 - val_accuracy: 0.7170\n",
            "Epoch 28/30\n",
            "63/63 [==============================] - 4s 57ms/step - loss: 0.0377 - accuracy: 0.9930 - val_loss: 2.3339 - val_accuracy: 0.7140\n",
            "Epoch 29/30\n",
            "63/63 [==============================] - 7s 101ms/step - loss: 0.0229 - accuracy: 0.9910 - val_loss: 2.4092 - val_accuracy: 0.7390\n",
            "Epoch 30/30\n",
            "63/63 [==============================] - 4s 56ms/step - loss: 0.0157 - accuracy: 0.9975 - val_loss: 2.9698 - val_accuracy: 0.7100\n"
          ]
        }
      ],
      "source": [
        "history = model.fit(\n",
        "                    train_ds,\n",
        "                    epochs=30,\n",
        "                    callbacks=callbacks,\n",
        "                    validation_data=validation_ds\n",
        "                    )"
      ]
    },
    {
      "cell_type": "code",
      "execution_count": null,
      "metadata": {
        "colab": {
          "background_save": true
        },
        "id": "OeqLv3lgXUQi",
        "outputId": "12045d87-d712-48ef-aabf-c99dc5e258cb"
      },
      "outputs": [
        {
          "data": {
            "image/png": "[encoded data removed]",
            "text/plain": [
              "<Figure size 640x480 with 1 Axes>"
            ]
          },
          "metadata": {},
          "output_type": "display_data"
        },
        {
          "data": {
            "image/png": "[encoded data removed]",
            "text/plain": [
              "<Figure size 640x480 with 1 Axes>"
            ]
          },
          "metadata": {},
          "output_type": "display_data"
        }
      ],
      "source": [
        "import matplotlib.pyplot as plt\n",
        "accuracy = history.history[\"accuracy\"]\n",
        "val_accuracy = history.history[\"val_accuracy\"]\n",
        "loss = history.history[\"loss\"]\n",
        "val_loss = history.history[\"val_loss\"]\n",
        "epochs = range(1, len(accuracy) + 1)\n",
        "plt.plot(epochs, accuracy, \"bo\", label=\"Training accuracy\")\n",
        "plt.plot(epochs, val_accuracy, \"b\", label=\"Validation accuracy\")\n",
        "plt.title(\"Training and validation accuracy\")\n",
        "plt.legend()\n",
        "plt.figure()\n",
        "plt.plot(epochs, loss, \"bo\", label=\"Training loss\")\n",
        "plt.plot(epochs, val_loss, \"b\", label=\"Validation loss\")\n",
        "plt.title(\"Training and validation loss\")\n",
        "plt.legend()\n",
        "plt.show()"
      ]
    },
    {
      "cell_type": "code",
      "execution_count": null,
      "metadata": {
        "colab": {
          "base_uri": "https://localhost:8080/"
        },
        "id": "OERvcLY1g7mw",
        "outputId": "01212b07-1b79-434d-d214-22b55a5f5d11"
      },
      "outputs": [
        {
          "name": "stdout",
          "output_type": "stream",
          "text": [
            "(396, 312, 3)\n"
          ]
        }
      ],
      "source": [
        "import cv2\n",
        "image_path = 'cats_vs_dogs_small/train/cat/cat.2.jpg'\n",
        "image = cv2.imread(image_path)\n",
        "print(image.shape)"
      ]
    },
    {
      "cell_type": "code",
      "execution_count": null,
      "metadata": {
        "id": "ycTn9F9ThVgl"
      },
      "outputs": [],
      "source": []
    }
  ],
  "metadata": {
    "accelerator": "GPU",
    "colab": {
      "gpuType": "T4",
      "provenance": []
    },
    "kernelspec": {
      "display_name": "Python 3",
      "name": "python3"
    },
    "language_info": {
      "name": "python"
    }
  },
  "nbformat": 4,
  "nbformat_minor": 0
}